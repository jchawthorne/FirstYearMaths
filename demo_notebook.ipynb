{
 "cells": [
  {
   "cell_type": "markdown",
   "metadata": {},
   "source": [
    "## How these notebooks work\n",
    "\n",
    "In this class, we will use Python notebooks like this one to plot some functions and illustrate the mathematical techniques you're learning.  In this notebook, we will illustrate how they work."
   ]
  },
  {
   "cell_type": "markdown",
   "metadata": {},
   "source": [
    "For the most part, you just have to do to run code that has already been written for you.  \n",
    "\n",
    "To run your first code, place your cursor in the cell below, click, and then press the \"Run\" button above.  Pressing \"Run\" will tell the computer to follow the instructions written in the cell."
   ]
  },
  {
   "cell_type": "code",
   "execution_count": 11,
   "metadata": {},
   "outputs": [
    {
     "name": "stdout",
     "output_type": "stream",
     "text": [
      "Great. You have run the code in this cell.\n"
     ]
    }
   ],
   "source": [
    "# Place your cursor here, click, and then press Run.\n",
    "\n",
    "# This code just prints some text.\n",
    "print(\"Great. You have run the code in this cell.\")"
   ]
  },
  {
   "cell_type": "markdown",
   "metadata": {},
   "source": [
    "Now try running the code in the cell below.  Each notebook will start with a similar cell.  The code in this cell imports some functions (aka software) that we'll want to use.  But you'll never need to understand the code in this cell though.  It will always be written for you."
   ]
  },
  {
   "cell_type": "code",
   "execution_count": 12,
   "metadata": {},
   "outputs": [
    {
     "name": "stdout",
     "output_type": "stream",
     "text": [
      "You have imported some useful software.\n"
     ]
    }
   ],
   "source": [
    "# Place your cursor here, click, and then press Run.\n",
    "\n",
    "# This code imports some functions.\n",
    "from matplotlib.pyplot import plot, xlabel, ylabel\n",
    "from numpy import arange\n",
    "\n",
    "# Then the code tells you it has imported functions.\n",
    "print('You have imported some useful software.')"
   ]
  },
  {
   "cell_type": "markdown",
   "metadata": {},
   "source": [
    "Now we can create a list of values that we want to plot.  Run the code in the cell below.  It will create two lists of values: $x$ and $y$.  $x$ is a list that includes 0, 1, 2, and 3.  $y$ is a list that is 3 times $x$ and includes the values 0, 3, 6, and 9."
   ]
  },
  {
   "cell_type": "code",
   "execution_count": 13,
   "metadata": {},
   "outputs": [
    {
     "name": "stdout",
     "output_type": "stream",
     "text": [
      "x is \n",
      "[0 1 2 3]\n",
      "y is \n",
      "[0 3 6 9]\n"
     ]
    }
   ],
   "source": [
    "# Place your cursor here, click, and then press Run.\n",
    "\n",
    "# This code creates two lists of values.\n",
    "# The first list, named x, is [0,1,2,3].\n",
    "x=arange(0,4,1)\n",
    "\n",
    "# Let's print the values.\n",
    "print('x is ')\n",
    "print(x)\n",
    "\n",
    "# The second list, named y, is 3*x, and is [0,3,6,9]\n",
    "y=3*x\n",
    "\n",
    "# Let's print the values of y\n",
    "print('y is ')\n",
    "print(y)"
   ]
  },
  {
   "cell_type": "markdown",
   "metadata": {},
   "source": [
    "Finally, we can do the most useful thing: plot the values we've obtained.  Run the cell below to plot $y$ against $x$.  "
   ]
  },
  {
   "cell_type": "code",
   "execution_count": 15,
   "metadata": {},
   "outputs": [
    {
     "data": {
      "image/png": "[encoded data removed]",
      "text/plain": [
       "<Figure size 432x288 with 1 Axes>"
      ]
     },
     "metadata": {
      "needs_background": "light"
     },
     "output_type": "display_data"
    }
   ],
   "source": [
    "# Place your cursor here, click, and then press Run.\n",
    "\n",
    "# This code plots y against x.\n",
    "plot(x,y,marker='o')\n",
    "\n",
    "# And this code adds some labels.\n",
    "xlabel('x');\n",
    "ylabel('y');"
   ]
  }
 ],
 "metadata": {
  "kernelspec": {
   "display_name": "Python 3",
   "language": "python",
   "name": "python3"
  },
  "language_info": {
   "codemirror_mode": {
    "name": "ipython",
    "version": 3
   },
   "file_extension": ".py",
   "mimetype": "text/x-python",
   "name": "python",
   "nbconvert_exporter": "python",
   "pygments_lexer": "ipython3",
   "version": "3.7.6"
  }
 },
 "nbformat": 4,
 "nbformat_minor": 4
}
